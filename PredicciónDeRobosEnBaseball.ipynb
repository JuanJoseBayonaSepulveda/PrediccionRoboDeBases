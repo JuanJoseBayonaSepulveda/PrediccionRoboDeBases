{
  "nbformat": 4,
  "nbformat_minor": 0,
  "metadata": {
    "colab": {
      "name": "PredicciónDeRobosEnBaseball.ipynb",
      "provenance": [],
      "collapsed_sections": []
    },
    "kernelspec": {
      "name": "python3",
      "display_name": "Python 3"
    },
    "language_info": {
      "name": "python"
    }
  },
  "cells": [
    {
      "cell_type": "markdown",
      "source": [
        "# **Predicción de posibles robos en el juego de baseball**\n",
        "\n",
        "---\n"
      ],
      "metadata": {
        "id": "En8y0GNTv1Aw"
      }
    },
    {
      "cell_type": "markdown",
      "source": [
        "<img src=\"https://raw.githubusercontent.com/JuanJoseBayonaSepulveda/PrediccionRoboDeBases/main/Banner.png\"  width=\"1000px\" height=\"250px\">"
      ],
      "metadata": {
        "id": "F2PswyaiS-df"
      }
    },
    {
      "cell_type": "markdown",
      "source": [
        "### **Introducción**\n",
        "\n",
        "El objetivo principal de este proyecto es descifrar las señales que se utilizan en el juego de baseball, esto con el fin de predecir cuando el otro equipo se dispone a robar. En el baseball las señales se usan como lenguaje no verbal de los couches hacia los jugadores, esto con el fin de confundir a los rivales sobre las posibles juagadas que se vayan a realizar. La función de los rivales es lograr interpretar esas señales a medida que avanza el juego, pero esto se complica ya que el cerebro humano no es muy bueno con los patrones. La Inteligencia artificial aparece como una forma de facilitar este proceso de predicción y lo mejor, en un tiempo más corto.   "
      ],
      "metadata": {
        "id": "oC2M80QQwUoQ"
      }
    },
    {
      "cell_type": "code",
      "source": [
        "#@title **Load libs** { display-mode: \"form\" }\n",
        "import pandas as pd\n",
        "import numpy as np\n",
        "import matplotlib.pyplot as plt\n",
        "import seaborn as sns\n",
        "from sklearn.cluster import KMeans \n",
        "from sklearn.cluster import DBSCAN\n",
        "from sklearn.datasets import *\n",
        "from sklearn.metrics import *\n",
        "from sklearn.model_selection import cross_val_score\n",
        "sns.set_theme()\n",
        "pd.__version__"
      ],
      "metadata": {
        "colab": {
          "base_uri": "https://localhost:8080/",
          "height": 35
        },
        "id": "T_0V6wUUB1wK",
        "outputId": "bce79a41-ee07-44c6-e89b-ecc4a6c486d8"
      },
      "execution_count": 26,
      "outputs": [
        {
          "output_type": "execute_result",
          "data": {
            "application/vnd.google.colaboratory.intrinsic+json": {
              "type": "string"
            },
            "text/plain": [
              "'1.3.5'"
            ]
          },
          "metadata": {},
          "execution_count": 26
        }
      ]
    },
    {
      "cell_type": "code",
      "source": [
        "#@title **Se importa y se prepara el Dataset**\n",
        "df=pd.read_csv(\"https://raw.githubusercontent.com/JuanJoseBayonaSepulveda/PrediccionRoboDeBases/main/data_ia_proyecto_ABC.csv\", sep=\",\")\n",
        "print(df)\n",
        "#df.shape"
      ],
      "metadata": {
        "colab": {
          "base_uri": "https://localhost:8080/"
        },
        "outputId": "1d9edb47-9c0d-4239-dba1-bdd44c8ff7cd",
        "id": "OgkaG40CCJ_U"
      },
      "execution_count": 27,
      "outputs": [
        {
          "output_type": "stream",
          "name": "stdout",
          "text": [
            "   Acc1 Acc2 Acc3 Acc4 Acc5 Acc6 Acc7 Acc8 Acc9 Acc10  ... Acc12 Acc13 Acc14  \\\n",
            "0     g    b    a    a    f    c    a    g    b     g  ...     d     j     i   \n",
            "1     a    j    f    i    g    h    i    j    g     b  ...     c     i     b   \n",
            "2     a    g    h    b    g    j    c    f    a     a  ...     a     g     c   \n",
            "3     e    e    b    a    d    f    c    e    c     j  ...     j     h     e   \n",
            "4     h    f    h    i    b    a    b    i    f     b  ...     f     g     e   \n",
            "..  ...  ...  ...  ...  ...  ...  ...  ...  ...   ...  ...   ...   ...   ...   \n",
            "95    g    i    a    e    j    f    h    d    c     d  ...     b     i     h   \n",
            "96    d    i    j    e    f    g    b    b    i     h  ...     h     c     a   \n",
            "97    d    d    a    g    g    g    f    f    g     f  ...     j     h     i   \n",
            "98    d    g    f    h    h    h    f    a    i     c  ...     i     g     e   \n",
            "99    a    i    b    e    c    a    h    j    b     b  ...     f     g     i   \n",
            "\n",
            "   Acc15 Acc16 Acc17 Acc18 Acc19 Acc20 Resp  \n",
            "0      c     i     i     i     d     d    1  \n",
            "1      b     d     e     d     f     i    0  \n",
            "2      f     g     h     g     f     i    1  \n",
            "3      j     h     c     c     e     c    0  \n",
            "4      f     b     d     d     b     b    1  \n",
            "..   ...   ...   ...   ...   ...   ...  ...  \n",
            "95     a     f     d     e     d     a    0  \n",
            "96     i     i     d     f     c     e    1  \n",
            "97     j     j     e     g     c     g    0  \n",
            "98     j     d     h     c     g     f    1  \n",
            "99     c     j     f     j     f     e    0  \n",
            "\n",
            "[100 rows x 21 columns]\n"
          ]
        }
      ]
    },
    {
      "cell_type": "code",
      "source": [
        "#@title **Se codifican las señas a numeros**\n",
        "df = df.replace({\"a\": 0, \"b\": 1,\"c\": 2,\"d\": 3,\"e\": 4,\"f\": 5,\"g\": 6,\"h\": 7,\"i\": 8,\"j\": 9}) \n",
        "df.head()\n",
        "\n",
        "#df.to_csv('data_ia_proyecto_Numbers.csv', index=False, encoding='utf-8') Guarda el data set con ese nombre"
      ],
      "metadata": {
        "colab": {
          "base_uri": "https://localhost:8080/",
          "height": 236
        },
        "id": "aEpXPhiEDWra",
        "outputId": "47fe65f6-eb34-48b7-cf33-67fa7fce9e2c"
      },
      "execution_count": 28,
      "outputs": [
        {
          "output_type": "execute_result",
          "data": {
            "text/html": [
              "\n",
              "  <div id=\"df-74f956c3-97e7-407e-b887-274a90d6f268\">\n",
              "    <div class=\"colab-df-container\">\n",
              "      <div>\n",
              "<style scoped>\n",
              "    .dataframe tbody tr th:only-of-type {\n",
              "        vertical-align: middle;\n",
              "    }\n",
              "\n",
              "    .dataframe tbody tr th {\n",
              "        vertical-align: top;\n",
              "    }\n",
              "\n",
              "    .dataframe thead th {\n",
              "        text-align: right;\n",
              "    }\n",
              "</style>\n",
              "<table border=\"1\" class=\"dataframe\">\n",
              "  <thead>\n",
              "    <tr style=\"text-align: right;\">\n",
              "      <th></th>\n",
              "      <th>Acc1</th>\n",
              "      <th>Acc2</th>\n",
              "      <th>Acc3</th>\n",
              "      <th>Acc4</th>\n",
              "      <th>Acc5</th>\n",
              "      <th>Acc6</th>\n",
              "      <th>Acc7</th>\n",
              "      <th>Acc8</th>\n",
              "      <th>Acc9</th>\n",
              "      <th>Acc10</th>\n",
              "      <th>...</th>\n",
              "      <th>Acc12</th>\n",
              "      <th>Acc13</th>\n",
              "      <th>Acc14</th>\n",
              "      <th>Acc15</th>\n",
              "      <th>Acc16</th>\n",
              "      <th>Acc17</th>\n",
              "      <th>Acc18</th>\n",
              "      <th>Acc19</th>\n",
              "      <th>Acc20</th>\n",
              "      <th>Resp</th>\n",
              "    </tr>\n",
              "  </thead>\n",
              "  <tbody>\n",
              "    <tr>\n",
              "      <th>0</th>\n",
              "      <td>6</td>\n",
              "      <td>1</td>\n",
              "      <td>0</td>\n",
              "      <td>0</td>\n",
              "      <td>5</td>\n",
              "      <td>2</td>\n",
              "      <td>0</td>\n",
              "      <td>6</td>\n",
              "      <td>1</td>\n",
              "      <td>6</td>\n",
              "      <td>...</td>\n",
              "      <td>3</td>\n",
              "      <td>9</td>\n",
              "      <td>8</td>\n",
              "      <td>2</td>\n",
              "      <td>8</td>\n",
              "      <td>8</td>\n",
              "      <td>8</td>\n",
              "      <td>3</td>\n",
              "      <td>3</td>\n",
              "      <td>1</td>\n",
              "    </tr>\n",
              "    <tr>\n",
              "      <th>1</th>\n",
              "      <td>0</td>\n",
              "      <td>9</td>\n",
              "      <td>5</td>\n",
              "      <td>8</td>\n",
              "      <td>6</td>\n",
              "      <td>7</td>\n",
              "      <td>8</td>\n",
              "      <td>9</td>\n",
              "      <td>6</td>\n",
              "      <td>1</td>\n",
              "      <td>...</td>\n",
              "      <td>2</td>\n",
              "      <td>8</td>\n",
              "      <td>1</td>\n",
              "      <td>1</td>\n",
              "      <td>3</td>\n",
              "      <td>4</td>\n",
              "      <td>3</td>\n",
              "      <td>5</td>\n",
              "      <td>8</td>\n",
              "      <td>0</td>\n",
              "    </tr>\n",
              "    <tr>\n",
              "      <th>2</th>\n",
              "      <td>0</td>\n",
              "      <td>6</td>\n",
              "      <td>7</td>\n",
              "      <td>1</td>\n",
              "      <td>6</td>\n",
              "      <td>9</td>\n",
              "      <td>2</td>\n",
              "      <td>5</td>\n",
              "      <td>0</td>\n",
              "      <td>0</td>\n",
              "      <td>...</td>\n",
              "      <td>0</td>\n",
              "      <td>6</td>\n",
              "      <td>2</td>\n",
              "      <td>5</td>\n",
              "      <td>6</td>\n",
              "      <td>7</td>\n",
              "      <td>6</td>\n",
              "      <td>5</td>\n",
              "      <td>8</td>\n",
              "      <td>1</td>\n",
              "    </tr>\n",
              "    <tr>\n",
              "      <th>3</th>\n",
              "      <td>4</td>\n",
              "      <td>4</td>\n",
              "      <td>1</td>\n",
              "      <td>0</td>\n",
              "      <td>3</td>\n",
              "      <td>5</td>\n",
              "      <td>2</td>\n",
              "      <td>4</td>\n",
              "      <td>2</td>\n",
              "      <td>9</td>\n",
              "      <td>...</td>\n",
              "      <td>9</td>\n",
              "      <td>7</td>\n",
              "      <td>4</td>\n",
              "      <td>9</td>\n",
              "      <td>7</td>\n",
              "      <td>2</td>\n",
              "      <td>2</td>\n",
              "      <td>4</td>\n",
              "      <td>2</td>\n",
              "      <td>0</td>\n",
              "    </tr>\n",
              "    <tr>\n",
              "      <th>4</th>\n",
              "      <td>7</td>\n",
              "      <td>5</td>\n",
              "      <td>7</td>\n",
              "      <td>8</td>\n",
              "      <td>1</td>\n",
              "      <td>0</td>\n",
              "      <td>1</td>\n",
              "      <td>8</td>\n",
              "      <td>5</td>\n",
              "      <td>1</td>\n",
              "      <td>...</td>\n",
              "      <td>5</td>\n",
              "      <td>6</td>\n",
              "      <td>4</td>\n",
              "      <td>5</td>\n",
              "      <td>1</td>\n",
              "      <td>3</td>\n",
              "      <td>3</td>\n",
              "      <td>1</td>\n",
              "      <td>1</td>\n",
              "      <td>1</td>\n",
              "    </tr>\n",
              "  </tbody>\n",
              "</table>\n",
              "<p>5 rows × 21 columns</p>\n",
              "</div>\n",
              "      <button class=\"colab-df-convert\" onclick=\"convertToInteractive('df-74f956c3-97e7-407e-b887-274a90d6f268')\"\n",
              "              title=\"Convert this dataframe to an interactive table.\"\n",
              "              style=\"display:none;\">\n",
              "        \n",
              "  <svg xmlns=\"http://www.w3.org/2000/svg\" height=\"24px\"viewBox=\"0 0 24 24\"\n",
              "       width=\"24px\">\n",
              "    <path d=\"M0 0h24v24H0V0z\" fill=\"none\"/>\n",
              "    <path d=\"M18.56 5.44l.94 2.06.94-2.06 2.06-.94-2.06-.94-.94-2.06-.94 2.06-2.06.94zm-11 1L8.5 8.5l.94-2.06 2.06-.94-2.06-.94L8.5 2.5l-.94 2.06-2.06.94zm10 10l.94 2.06.94-2.06 2.06-.94-2.06-.94-.94-2.06-.94 2.06-2.06.94z\"/><path d=\"M17.41 7.96l-1.37-1.37c-.4-.4-.92-.59-1.43-.59-.52 0-1.04.2-1.43.59L10.3 9.45l-7.72 7.72c-.78.78-.78 2.05 0 2.83L4 21.41c.39.39.9.59 1.41.59.51 0 1.02-.2 1.41-.59l7.78-7.78 2.81-2.81c.8-.78.8-2.07 0-2.86zM5.41 20L4 18.59l7.72-7.72 1.47 1.35L5.41 20z\"/>\n",
              "  </svg>\n",
              "      </button>\n",
              "      \n",
              "  <style>\n",
              "    .colab-df-container {\n",
              "      display:flex;\n",
              "      flex-wrap:wrap;\n",
              "      gap: 12px;\n",
              "    }\n",
              "\n",
              "    .colab-df-convert {\n",
              "      background-color: #E8F0FE;\n",
              "      border: none;\n",
              "      border-radius: 50%;\n",
              "      cursor: pointer;\n",
              "      display: none;\n",
              "      fill: #1967D2;\n",
              "      height: 32px;\n",
              "      padding: 0 0 0 0;\n",
              "      width: 32px;\n",
              "    }\n",
              "\n",
              "    .colab-df-convert:hover {\n",
              "      background-color: #E2EBFA;\n",
              "      box-shadow: 0px 1px 2px rgba(60, 64, 67, 0.3), 0px 1px 3px 1px rgba(60, 64, 67, 0.15);\n",
              "      fill: #174EA6;\n",
              "    }\n",
              "\n",
              "    [theme=dark] .colab-df-convert {\n",
              "      background-color: #3B4455;\n",
              "      fill: #D2E3FC;\n",
              "    }\n",
              "\n",
              "    [theme=dark] .colab-df-convert:hover {\n",
              "      background-color: #434B5C;\n",
              "      box-shadow: 0px 1px 3px 1px rgba(0, 0, 0, 0.15);\n",
              "      filter: drop-shadow(0px 1px 2px rgba(0, 0, 0, 0.3));\n",
              "      fill: #FFFFFF;\n",
              "    }\n",
              "  </style>\n",
              "\n",
              "      <script>\n",
              "        const buttonEl =\n",
              "          document.querySelector('#df-74f956c3-97e7-407e-b887-274a90d6f268 button.colab-df-convert');\n",
              "        buttonEl.style.display =\n",
              "          google.colab.kernel.accessAllowed ? 'block' : 'none';\n",
              "\n",
              "        async function convertToInteractive(key) {\n",
              "          const element = document.querySelector('#df-74f956c3-97e7-407e-b887-274a90d6f268');\n",
              "          const dataTable =\n",
              "            await google.colab.kernel.invokeFunction('convertToInteractive',\n",
              "                                                     [key], {});\n",
              "          if (!dataTable) return;\n",
              "\n",
              "          const docLinkHtml = 'Like what you see? Visit the ' +\n",
              "            '<a target=\"_blank\" href=https://colab.research.google.com/notebooks/data_table.ipynb>data table notebook</a>'\n",
              "            + ' to learn more about interactive tables.';\n",
              "          element.innerHTML = '';\n",
              "          dataTable['output_type'] = 'display_data';\n",
              "          await google.colab.output.renderOutput(dataTable, element);\n",
              "          const docLink = document.createElement('div');\n",
              "          docLink.innerHTML = docLinkHtml;\n",
              "          element.appendChild(docLink);\n",
              "        }\n",
              "      </script>\n",
              "    </div>\n",
              "  </div>\n",
              "  "
            ],
            "text/plain": [
              "   Acc1  Acc2  Acc3  Acc4  Acc5  Acc6  Acc7  Acc8  Acc9  Acc10  ...  Acc12  \\\n",
              "0     6     1     0     0     5     2     0     6     1      6  ...      3   \n",
              "1     0     9     5     8     6     7     8     9     6      1  ...      2   \n",
              "2     0     6     7     1     6     9     2     5     0      0  ...      0   \n",
              "3     4     4     1     0     3     5     2     4     2      9  ...      9   \n",
              "4     7     5     7     8     1     0     1     8     5      1  ...      5   \n",
              "\n",
              "   Acc13  Acc14  Acc15  Acc16  Acc17  Acc18  Acc19  Acc20  Resp  \n",
              "0      9      8      2      8      8      8      3      3     1  \n",
              "1      8      1      1      3      4      3      5      8     0  \n",
              "2      6      2      5      6      7      6      5      8     1  \n",
              "3      7      4      9      7      2      2      4      2     0  \n",
              "4      6      4      5      1      3      3      1      1     1  \n",
              "\n",
              "[5 rows x 21 columns]"
            ]
          },
          "metadata": {},
          "execution_count": 28
        }
      ]
    },
    {
      "cell_type": "markdown",
      "source": [
        "## **Particionamiento de datos**"
      ],
      "metadata": {
        "id": "ZuCft-BkOPyh"
      }
    },
    {
      "cell_type": "code",
      "source": [
        "#@title **Code:** Se separan los datos del ground truth y se establecen las particiones de train y de test\n",
        "from sklearn.model_selection import train_test_split\n",
        "data = df.iloc[:,:-1]\n",
        "data_y = df.Resp\n",
        "X_train, X_test, y_train, y_test = train_test_split(data, data_y, test_size = 0.2, shuffle = False)\n",
        "print(\"DONE!\")"
      ],
      "metadata": {
        "id": "1KvB3iDsI1TP",
        "colab": {
          "base_uri": "https://localhost:8080/"
        },
        "outputId": "08ce0b28-1583-4b29-f21f-0739e65f777f"
      },
      "execution_count": 29,
      "outputs": [
        {
          "output_type": "stream",
          "name": "stdout",
          "text": [
            "DONE!\n"
          ]
        }
      ]
    },
    {
      "cell_type": "markdown",
      "source": [
        "## **Decision Tree Classifier**"
      ],
      "metadata": {
        "id": "-PNacJaBTKRu"
      }
    },
    {
      "cell_type": "code",
      "source": [
        "#@title **Code:** Se ejecuta DecisionTreeClassifier para conocer su efectividad en este caso\n",
        "from sklearn.tree import DecisionTreeClassifier\n",
        "estDT = DecisionTreeClassifier(max_depth=100,random_state=True)\n",
        "estDT.fit(X_train,y_train)\n",
        "print(\"Accuracy score:\",accuracy_score(estDT.predict(X_test), y_test))"
      ],
      "metadata": {
        "colab": {
          "base_uri": "https://localhost:8080/"
        },
        "id": "JVypl1Dy-Cu0",
        "outputId": "3e316492-a719-455c-e585-2042727793a4"
      },
      "execution_count": 30,
      "outputs": [
        {
          "output_type": "stream",
          "name": "stdout",
          "text": [
            "Accuracy score: 0.35\n"
          ]
        }
      ]
    },
    {
      "cell_type": "markdown",
      "source": [
        "## **Support vector machine classification (SVM)**"
      ],
      "metadata": {
        "id": "m7QbrUYmXt08"
      }
    },
    {
      "cell_type": "code",
      "source": [
        "#@title **Code** Se ejecuta SVM classification para conocer su efectividad en este caso\n",
        "from sklearn.svm import SVC\n",
        "\n",
        "estSVC = SVC()\n",
        "estSVC.fit(X_train,y_train)\n",
        "print(\"TRAIN: \",accuracy_score(estSVC.predict(X_train), y_train))\n",
        "print(\"TEST: \",accuracy_score(estSVC.predict(X_test), y_test))"
      ],
      "metadata": {
        "colab": {
          "base_uri": "https://localhost:8080/"
        },
        "id": "ktb9bAjAWEmC",
        "outputId": "2bbcd40a-d1ae-4d3f-bb82-4d9e1d864151"
      },
      "execution_count": 31,
      "outputs": [
        {
          "output_type": "stream",
          "name": "stdout",
          "text": [
            "TRAIN:  0.975\n",
            "TEST:  0.6\n"
          ]
        }
      ]
    },
    {
      "cell_type": "markdown",
      "source": [
        "## **Red Neuronal**"
      ],
      "metadata": {
        "id": "L5BOyQo3Npc3"
      }
    },
    {
      "cell_type": "code",
      "source": [
        "#@title **Code:** Se ejecuta una Red Neuronal para conocer la efectividad de este metodo para este caso\n",
        "import numpy as np\n",
        "import tensorflow as tf\n",
        "from tensorflow import keras\n",
        "\n",
        "tf.random.set_seed(21)\n",
        "np.random.seed(21)\n",
        "nclasses = [len(np.unique(y_test))]\n",
        "X_train = np.asarray(X_train).astype(np.float32)\n",
        "X_test = np.asarray(X_test).astype(np.float32)\n",
        "dnn1 = tf.keras.Sequential([\n",
        "    tf.keras.layers.Flatten(input_shape = X_train[1].shape),\n",
        "    tf.keras.layers.Dense(512, activation=tf.nn.relu),\n",
        "    tf.keras.layers.Dense(512, activation=tf.nn.relu),\n",
        "    tf.keras.layers.Dense(256, activation=tf.nn.relu),\n",
        "    tf.keras.layers.Dense(256, activation=tf.nn.relu),\n",
        "    tf.keras.layers.Dense(128, activation=tf.nn.relu),\n",
        "    tf.keras.layers.Dense(128, activation=tf.nn.relu),\n",
        "    tf.keras.layers.Dense(64, activation=tf.nn.relu),\n",
        "    tf.keras.layers.Dense(64, activation=tf.nn.relu),\n",
        "    tf.keras.layers.Dense(nclasses[0], activation='sigmoid')\n",
        "])\n",
        "#dnn1.summary()\n",
        "#print(nclasses)\n",
        "#X_train.shape\n",
        "dnn1.compile(optimizer=tf.keras.optimizers.SGD(), \n",
        "            loss='sparse_categorical_crossentropy',\n",
        "            metrics=['accuracy'])\n",
        "\n",
        "\n",
        "history = dnn1.fit(X_train, y_train, epochs=30, batch_size=32, validation_data=(X_test, y_test))\n",
        "scores = dnn1.evaluate(X_test, y_test)\n",
        "yest = dnn1.predict(X_test)\n",
        "yest = np.argmax(dnn1.predict(X_test),axis=1)\n",
        "X_train.shape\n",
        "print(history, scores, yest)\n",
        "print(\"Accuracy Score: \",scores[1])"
      ],
      "metadata": {
        "colab": {
          "base_uri": "https://localhost:8080/"
        },
        "id": "iFN9Xvpmat7l",
        "outputId": "d868d872-012a-42b6-a2b0-1251b0d5d561"
      },
      "execution_count": 32,
      "outputs": [
        {
          "output_type": "stream",
          "name": "stdout",
          "text": [
            "Epoch 1/30\n",
            "3/3 [==============================] - 1s 130ms/step - loss: 0.6978 - accuracy: 0.4875 - val_loss: 0.6965 - val_accuracy: 0.5500\n",
            "Epoch 2/30\n",
            "3/3 [==============================] - 0s 21ms/step - loss: 0.6924 - accuracy: 0.5500 - val_loss: 0.6961 - val_accuracy: 0.5500\n",
            "Epoch 3/30\n",
            "3/3 [==============================] - 0s 21ms/step - loss: 0.6900 - accuracy: 0.5125 - val_loss: 0.6954 - val_accuracy: 0.5500\n",
            "Epoch 4/30\n",
            "3/3 [==============================] - 0s 20ms/step - loss: 0.6802 - accuracy: 0.5750 - val_loss: 0.7011 - val_accuracy: 0.4500\n",
            "Epoch 5/30\n",
            "3/3 [==============================] - 0s 20ms/step - loss: 0.6750 - accuracy: 0.6875 - val_loss: 0.6986 - val_accuracy: 0.5000\n",
            "Epoch 6/30\n",
            "3/3 [==============================] - 0s 22ms/step - loss: 0.6704 - accuracy: 0.7375 - val_loss: 0.7023 - val_accuracy: 0.4500\n",
            "Epoch 7/30\n",
            "3/3 [==============================] - 0s 19ms/step - loss: 0.6670 - accuracy: 0.7125 - val_loss: 0.7044 - val_accuracy: 0.3500\n",
            "Epoch 8/30\n",
            "3/3 [==============================] - 0s 20ms/step - loss: 0.6623 - accuracy: 0.7375 - val_loss: 0.7009 - val_accuracy: 0.5500\n",
            "Epoch 9/30\n",
            "3/3 [==============================] - 0s 22ms/step - loss: 0.6616 - accuracy: 0.6875 - val_loss: 0.7034 - val_accuracy: 0.4000\n",
            "Epoch 10/30\n",
            "3/3 [==============================] - 0s 21ms/step - loss: 0.6541 - accuracy: 0.8125 - val_loss: 0.6981 - val_accuracy: 0.5500\n",
            "Epoch 11/30\n",
            "3/3 [==============================] - 0s 22ms/step - loss: 0.6513 - accuracy: 0.7375 - val_loss: 0.7078 - val_accuracy: 0.3500\n",
            "Epoch 12/30\n",
            "3/3 [==============================] - 0s 26ms/step - loss: 0.6447 - accuracy: 0.7625 - val_loss: 0.7069 - val_accuracy: 0.4000\n",
            "Epoch 13/30\n",
            "3/3 [==============================] - 0s 20ms/step - loss: 0.6403 - accuracy: 0.7875 - val_loss: 0.7111 - val_accuracy: 0.4000\n",
            "Epoch 14/30\n",
            "3/3 [==============================] - 0s 20ms/step - loss: 0.6403 - accuracy: 0.8375 - val_loss: 0.7144 - val_accuracy: 0.4000\n",
            "Epoch 15/30\n",
            "3/3 [==============================] - 0s 21ms/step - loss: 0.6335 - accuracy: 0.8125 - val_loss: 0.7156 - val_accuracy: 0.3500\n",
            "Epoch 16/30\n",
            "3/3 [==============================] - 0s 22ms/step - loss: 0.6361 - accuracy: 0.7500 - val_loss: 0.7202 - val_accuracy: 0.3500\n",
            "Epoch 17/30\n",
            "3/3 [==============================] - 0s 20ms/step - loss: 0.6258 - accuracy: 0.7875 - val_loss: 0.7176 - val_accuracy: 0.3500\n",
            "Epoch 18/30\n",
            "3/3 [==============================] - 0s 21ms/step - loss: 0.6199 - accuracy: 0.8000 - val_loss: 0.7262 - val_accuracy: 0.3000\n",
            "Epoch 19/30\n",
            "3/3 [==============================] - 0s 19ms/step - loss: 0.6146 - accuracy: 0.7750 - val_loss: 0.7102 - val_accuracy: 0.4500\n",
            "Epoch 20/30\n",
            "3/3 [==============================] - 0s 20ms/step - loss: 0.6039 - accuracy: 0.8875 - val_loss: 0.7104 - val_accuracy: 0.4500\n",
            "Epoch 21/30\n",
            "3/3 [==============================] - 0s 20ms/step - loss: 0.5997 - accuracy: 0.8625 - val_loss: 0.7084 - val_accuracy: 0.5500\n",
            "Epoch 22/30\n",
            "3/3 [==============================] - 0s 25ms/step - loss: 0.5969 - accuracy: 0.8125 - val_loss: 0.7150 - val_accuracy: 0.4500\n",
            "Epoch 23/30\n",
            "3/3 [==============================] - 0s 24ms/step - loss: 0.5814 - accuracy: 0.8750 - val_loss: 0.7139 - val_accuracy: 0.6000\n",
            "Epoch 24/30\n",
            "3/3 [==============================] - 0s 27ms/step - loss: 0.5893 - accuracy: 0.7750 - val_loss: 0.7243 - val_accuracy: 0.4500\n",
            "Epoch 25/30\n",
            "3/3 [==============================] - 0s 24ms/step - loss: 0.5671 - accuracy: 0.9000 - val_loss: 0.7150 - val_accuracy: 0.5000\n",
            "Epoch 26/30\n",
            "3/3 [==============================] - 0s 21ms/step - loss: 0.5568 - accuracy: 0.8875 - val_loss: 0.7144 - val_accuracy: 0.5000\n",
            "Epoch 27/30\n",
            "3/3 [==============================] - 0s 22ms/step - loss: 0.5535 - accuracy: 0.8250 - val_loss: 0.7117 - val_accuracy: 0.5000\n",
            "Epoch 28/30\n",
            "3/3 [==============================] - 0s 30ms/step - loss: 0.5446 - accuracy: 0.8750 - val_loss: 0.7177 - val_accuracy: 0.5000\n",
            "Epoch 29/30\n",
            "3/3 [==============================] - 0s 24ms/step - loss: 0.5501 - accuracy: 0.7750 - val_loss: 0.7266 - val_accuracy: 0.4500\n",
            "Epoch 30/30\n",
            "3/3 [==============================] - 0s 27ms/step - loss: 0.5279 - accuracy: 0.8625 - val_loss: 0.7176 - val_accuracy: 0.6000\n",
            "1/1 [==============================] - 0s 23ms/step - loss: 0.7176 - accuracy: 0.6000\n",
            "<keras.callbacks.History object at 0x7ff55680c110> [0.7175714373588562, 0.6000000238418579] [1 1 1 1 1 0 1 1 1 0 1 1 1 1 1 1 1 1 1 1]\n",
            "Accuracy Score:  0.6000000238418579\n"
          ]
        }
      ]
    },
    {
      "cell_type": "code",
      "source": [
        "plt.plot(history.history['accuracy'])  \n",
        "plt.plot(history.history['val_accuracy'])  \n",
        "plt.title('model accuracy')  \n",
        "plt.ylabel('accuracy')  \n",
        "plt.xlabel('epoch')  \n",
        "plt.legend(['train', 'test'], loc='upper left')"
      ],
      "metadata": {
        "colab": {
          "base_uri": "https://localhost:8080/",
          "height": 318
        },
        "id": "MZoCT8CJblPG",
        "outputId": "79d34833-8669-42af-8da0-a5c6792eb730"
      },
      "execution_count": 33,
      "outputs": [
        {
          "output_type": "execute_result",
          "data": {
            "text/plain": [
              "<matplotlib.legend.Legend at 0x7ff553d1e4d0>"
            ]
          },
          "metadata": {},
          "execution_count": 33
        },
        {
          "output_type": "display_data",
          "data": {
            "image/png": "[encoded data removed]",
            "text/plain": [
              "<Figure size 432x288 with 1 Axes>"
            ]
          },
          "metadata": {}
        }
      ]
    },
    {
      "cell_type": "markdown",
      "source": [
        "## **Gaussian NaiveBayes**"
      ],
      "metadata": {
        "id": "1ATJs5DU8oW4"
      }
    },
    {
      "cell_type": "code",
      "source": [
        "#@title **Code:** Se ejecuta Gaussian NaivBayes para conocer su efectividad en este caso\n",
        "from sklearn.naive_bayes import GaussianNB\n",
        "from sklearn.model_selection import cross_val_score\n",
        "from sklearn.metrics import *\n",
        "estNB = GaussianNB()\n",
        "print(X_train.shape, y_train.shape)\n",
        "estNB.fit(X_train,y_train)\n",
        "predictions = estNB.predict(X_test)\n",
        "print( \"first 100 predictions\", predictions[:100])\n",
        "print( \"first 100 targets    \", y_train[:100])\n",
        "print(\"Accuracy Score:\",\"%.3f\"%accuracy_score(predictions, y_test))"
      ],
      "metadata": {
        "colab": {
          "base_uri": "https://localhost:8080/"
        },
        "id": "HKt8lYi08-Su",
        "outputId": "7e8b1c3d-7a3c-45be-e40c-5ceb41c8704c"
      },
      "execution_count": 34,
      "outputs": [
        {
          "output_type": "stream",
          "name": "stdout",
          "text": [
            "(80, 20) (80,)\n",
            "first 100 predictions [0 1 0 0 0 0 1 1 1 0 1 0 1 0 1 0 1 1 0 0]\n",
            "first 100 targets     0     1\n",
            "1     0\n",
            "2     1\n",
            "3     0\n",
            "4     1\n",
            "     ..\n",
            "75    0\n",
            "76    1\n",
            "77    0\n",
            "78    1\n",
            "79    0\n",
            "Name: Resp, Length: 80, dtype: int64\n",
            "Accuracy Score: 0.650\n"
          ]
        }
      ]
    },
    {
      "cell_type": "markdown",
      "source": [
        "## **Random Forest**"
      ],
      "metadata": {
        "id": "l3_NSwcK4cwa"
      }
    },
    {
      "cell_type": "code",
      "source": [
        "#@title **Code:** Se ejecuta el metodo Random Forest para conocer su efectividad en este caso\n",
        "import pandas as pd\n",
        "import matplotlib.pyplot as plt\n",
        "import seaborn as sns\n",
        "from sklearn.metrics import *\n",
        "from sklearn.ensemble import RandomForestClassifier\n",
        "estRF = RandomForestClassifier(n_estimators=350,random_state=True)\n",
        "estRF.fit(X_train,y_train)\n",
        "print(\"Accuracy score:\",accuracy_score(estRF.predict(X_test), y_test))"
      ],
      "metadata": {
        "colab": {
          "base_uri": "https://localhost:8080/"
        },
        "id": "17Lix8Fs4eKi",
        "outputId": "0206ee7b-e2ca-42bf-844b-3e055d1a71ab"
      },
      "execution_count": 35,
      "outputs": [
        {
          "output_type": "stream",
          "name": "stdout",
          "text": [
            "Accuracy score: 0.75\n"
          ]
        }
      ]
    },
    {
      "cell_type": "markdown",
      "source": [
        "## **Cross-Validation**"
      ],
      "metadata": {
        "id": "e2l_ZuGfUif6"
      }
    },
    {
      "cell_type": "code",
      "source": [
        "#@title **Code** Se ejecuta Cross Validation para conocer su efectividad en este caso\n",
        "from sklearn.model_selection import cross_val_score\n",
        "from sklearn.model_selection import KFold\n",
        "\n",
        "s = cross_val_score(estSVC, data, data_y, cv=KFold(10, shuffle=False), scoring=make_scorer(accuracy_score))\n",
        "print(\"accuracy SVC %.3f (+/- %.5f)\"%(np.mean(s), np.std(s)))\n",
        "s = cross_val_score(estDT, data, data_y, cv=KFold(10, shuffle=False), scoring=make_scorer(accuracy_score))\n",
        "print(\"accuracy DT %.3f (+/- %.5f)\"%(np.mean(s), np.std(s)))\n",
        "s = cross_val_score(estNB, data, data_y, cv=KFold(10, shuffle=False), scoring=make_scorer(accuracy_score))\n",
        "print(\"accuracy NB %.3f (+/- %.5f)\"%(np.mean(s), np.std(s)))\n",
        "s = cross_val_score(estRF, data, data_y, cv=KFold(10, shuffle=False), scoring=make_scorer(accuracy_score))\n",
        "print(\"accuracy RF %.3f (+/- %.5f)\"%(np.mean(s), np.std(s)))\n",
        "print(\"Solo se aprecia una mejora en el metodo de Decision Tree :(\\n El mayor acurracy esta dado por el metodo de Random Forest :)\" )"
      ],
      "metadata": {
        "colab": {
          "base_uri": "https://localhost:8080/"
        },
        "id": "m85tjZFoWWgk",
        "outputId": "e21da356-c398-4667-d01f-2b68915ac076"
      },
      "execution_count": 36,
      "outputs": [
        {
          "output_type": "stream",
          "name": "stdout",
          "text": [
            "accuracy SVC 0.540 (+/- 0.22000)\n",
            "accuracy DT 0.510 (+/- 0.18138)\n",
            "accuracy NB 0.540 (+/- 0.21541)\n",
            "accuracy RF 0.610 (+/- 0.13000)\n",
            "Solo se aprecia una mejora en el metodo de Decision Tree :(\n",
            " El mayor acurracy esta dado por el metodo de Random Forest :)\n"
          ]
        }
      ]
    }
  ]
}